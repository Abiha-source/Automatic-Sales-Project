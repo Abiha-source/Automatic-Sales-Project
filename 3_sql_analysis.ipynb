# 3. SQL-Based Analysis

```python
import sqlite3

# Create SQLite DB and connection
conn = sqlite3.connect("automobile_sales.db")
df.to_sql("sales", conn, if_exists="replace", index=False)

# 1. Average sales by vehicle type
query1 = """
SELECT vehicle_type, AVG(automobile_sales) AS avg_sales
FROM sales
GROUP BY vehicle_type
"""
print("\nAverage Sales by Vehicle Type:")
print(pd.read_sql(query1, conn))

# 2. Monthly average sales in Recession vs Non-Recession
query2 = """
SELECT strftime('%Y-%m', date) AS month, recession, AVG(automobile_sales) AS avg_monthly_sales
FROM sales
GROUP BY month, recession
"""
print("\nMonthly Average Sales (Recession vs Non-Recession):")
print(pd.read_sql(query2, conn))

# 3. Top 5 months with highest ad expenditure
query3 = """
SELECT strftime('%Y-%m', date) AS month, SUM(advertising_expenditure) AS total_ad_exp
FROM sales
GROUP BY month
ORDER BY total_ad_exp DESC
LIMIT 5
"""
print("\nTop 5 Months with Highest Advertising Expenditure:")
print(pd.read_sql(query3, conn))

conn.close()
```

This script:
- Creates a SQLite database from the cleaned DataFrame
- Runs SQL queries to get key insights:
  - Average sales by vehicle type
  - Monthly average sales during recession vs non-recession
  - Months with highest advertisement spending
