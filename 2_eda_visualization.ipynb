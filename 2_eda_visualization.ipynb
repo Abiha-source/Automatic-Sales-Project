# 2. Exploratory Data Analysis (EDA) & Visualization

```python
import matplotlib.pyplot as plt
import seaborn as sns

# Load cleaned data
df = pd.read_csv("cleaned_automobile_sales.csv")
df['date'] = pd.to_datetime(df['date'])

# Recession vs Non-Recession Summary
recession_summary = df.groupby('recession')['automobile_sales'].agg(['mean', 'sum'])
print("\nRecession vs Non-Recession Sales Summary:\n", recession_summary)

# Line Plot: Unemployment Rate vs Automobile Sales
plt.figure(figsize=(10, 6))
sns.lineplot(data=df, x='unemployment_rate', y='automobile_sales', hue='recession')
plt.title('Unemployment Rate vs Automobile Sales (Recession vs Non-Recession)')
plt.xlabel('Unemployment Rate')
plt.ylabel('Automobile Sales')
plt.grid(True)
plt.legend(title='Recession')
plt.tight_layout()
plt.savefig("line_unemployment_vs_sales.png")
plt.show()

# Pie Chart: Advertisement Expenditure by Vehicle Type During Recession
recession_df = df[df['recession'] == True]
recession_ad_exp = recession_df.groupby('vehicle_type')['advertising_expenditure'].sum()

plt.figure(figsize=(8, 8))
recession_ad_exp.plot.pie(autopct='%1.1f%%', startangle=140, shadow=True)
plt.title("Advertisement Expenditure by Vehicle Type During Recession")
plt.ylabel("")
plt.tight_layout()
plt.savefig("pie_ad_exp_recession.png")
plt.show()

# Yearly Trends
df['year'] = pd.DatetimeIndex(df['date']).year
yearly_sales = df.groupby(['year', 'vehicle_type'])['automobile_sales'].sum().reset_index()

plt.figure(figsize=(12, 6))
sns.lineplot(data=yearly_sales, x='year', y='automobile_sales', hue='vehicle_type')
plt.title("Yearly Automobile Sales by Vehicle Type")
plt.xlabel("Year")
plt.ylabel("Total Sales")
plt.grid(True)
plt.tight_layout()
plt.savefig("line_yearly_sales.png")
plt.show()
```

This script:
- Visualizes sales trends vs. unemployment rate
- Creates a pie chart of ad spending during recession
- Analyzes yearly sales trends by vehicle type
