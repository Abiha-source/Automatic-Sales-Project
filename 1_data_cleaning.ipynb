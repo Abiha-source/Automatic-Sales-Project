
# 1. Data Cleaning & Preparation

```python
import pandas as pd

# Load dataset
df = pd.read_csv("https://cf-courses-data.s3.us.cloud-object-storage.appdomain.cloud/IBMDeveloperSkillsNetwork-DV0101EN-SkillsNetwork/Data%20Files/historical_automobile_sales.csv")

# Display basic information
print("Initial shape:", df.shape)
print(df.info())

# Convert column names to lowercase for consistency
df.columns = df.columns.str.lower().str.replace(' ', '_')

# Drop rows with missing values in important columns
important_columns = ["recession", "vehicle_type", "automobile_sales", "unemployment_rate", "advertising_expenditure"]
df.dropna(subset=important_columns, inplace=True)

# Convert data types if necessary
df['date'] = pd.to_datetime(df['date'])

# Confirm cleaning
print("Cleaned shape:", df.shape)
print(df[important_columns].describe())

# Save cleaned data
cleaned_path = "cleaned_automobile_sales.csv"
df.to_csv(cleaned_path, index=False)
print(f"Cleaned data saved to {cleaned_path}")
```

This script:
- Loads the dataset
- Standardizes column names
- Drops rows with missing critical values
- Converts the `date` column to datetime format
- Saves the cleaned file as `cleaned_automobile_sales.csv`
