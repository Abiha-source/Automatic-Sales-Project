# 4. Folium Map

```python
import folium
import pandas as pd

# For demonstration, add dummy region-wise average sales
region_sales = {
    'California': [36.7783, -119.4179, 3200],
    'Texas': [31.9686, -99.9018, 2800],
    'New York': [40.7128, -74.0060, 2100],
    'Florida': [27.9944, -81.7603, 2500],
    'Illinois': [40.6331, -89.3985, 2300]
}

# Create base map
m = folium.Map(location=[37.0902, -95.7129], zoom_start=4)

# Add circle markers
for state, (lat, lon, sales) in region_sales.items():
    folium.CircleMarker(
        location=[lat, lon],
        radius=sales/500,
        color='blue',
        fill=True,
        fill_opacity=0.6,
        popup=f"{state}: {sales} sales"
    ).add_to(m)

# Save map
m.save("sales_map.html")
print("Folium map saved as sales_map.html")
```

This script:
- Uses dummy regional coordinates and sales
- Displays a circle map showing sales volume by state
- Saves the output map as an HTML file
